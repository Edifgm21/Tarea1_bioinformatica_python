{
 "cells": [
  {
   "cell_type": "markdown",
   "id": "8453f9ba",
   "metadata": {},
   "source": [
    "<img src = \"https://www.untrm.edu.pe/images/ikiam-logo.jpg\" width = 150, height=0 >\n",
    "\n",
    "\n",
    "### <center><h1> INGENIERIA EN BIOTECNOLOGIA </center></h1>\n",
    "# <center><h2 style=\"color:green\">GBI6 - BIOINFORMÁTICA</h2></center>\n",
    "## TRABAJO DE PROGRAMACION EN PYTHON \n",
    "## <center> <h3 style=\"color:blue\"> DOGMA CENTRAL DE LA BIOLOGÍA MOLECULAR\n",
    "</h3>\n",
    "    \n",
    "### Realizado por: \n",
    "**Edison Gonzales**\n",
    "    \n",
    "-El «Dogma central de la biología molecular» es un concepto que ilustra los mecanismos de transmisión y expresión de la herencia genética. Propone que existe  unidireccionalidad en la expresión de la información contenida en los genes de una célula, es decir, que el ADN es transcrito a ARN mensajero y que éste es traducido a proteína.\n",
    "    \n",
    "   <img src=\"https://th.bing.com/th/id/R.8d8502299d5c40ccb5675731b7f6577d?rik=wX%2ffj%2f2SyaYsAw&riu=http%3a%2f%2f3.bp.blogspot.com%2f-fXVEaHJJWLw%2fVkvF8mVWhvI%2fAAAAAAAADak%2fieE-RMyTcXY%2fs1600%2fCentralDogma-es.png&ehk=ThFGCRM1WcYxx6Z7NEOPC6nPBjoDoFUFtNEjWoM%2bNqM%3d&risl=&pid=ImgRaw&r=0\" width=500 height=300 />\n",
    "\n",
    "## Transcripcion  \n",
    "   El ADN solo se sintetiza en la dirección 5' a 3'. Puedes determinar la secuencia de una cadena complementaria si te dan la secuencia de la cadena molde.\n",
    "Por ejemplo, si sabes que la secuencia de una cadena es 5'-AATTGGCC-3 ', la cadena complementaria debe tener la secuencia 3'-TTAACCGG-5'\n",
    "\n",
    "   <img src=\"https://th.bing.com/th/id/R.ed93a9477793c06f2ca73ac0e5e0e9a9?rik=ZzI1lkNafxO7yQ&riu=http%3a%2f%2fcdn.thinglink.me%2fapi%2fimage%2f513422000476127232%2f1024%2f10%2fscaletowidth%2f0%2f0%2f1%2f1%2ffalse%2ftrue%3fwait%3dtrue&ehk=rKYz4XmSI4InKFWJV5t6yAOlvAkT7PvFh0%2f2%2bbo%2fv%2bk%3d&risl=&pid=ImgRaw&r=0&sres=1&sresct=1\"  width=400, height=200 />\n",
    "    "
   ]
  },
  {
   "cell_type": "code",
   "execution_count": 70,
   "id": "ea796710",
   "metadata": {},
   "outputs": [
    {
     "data": {
      "text/plain": [
       "'AAGGACCNGACATCCATCGCTGATGTCAATCCCCCGTGGATCGTAAGTCCGGGAGTAGGAGGAGGAAGGGTCGTCCCACAGTGCGAAGAGGCTTCTGACCTACTGACGGTACCTCCTCAGTGTCAGCCTATAGTCGGAGCTCGAGGGAGACTCGGTCCTCTGTAAAAGTCCGAATACCTTTGATGAAGGAGGTCTTCTATAGGACGGTAG'"
      ]
     },
     "execution_count": 70,
     "metadata": {},
     "output_type": "execute_result"
    }
   ],
   "source": [
    "#Mostramos nuetra caddena de DNA \n",
    "seq1 = \"AAGGACCNGACATCCATCGCTGATGTCAATCCCCCGTGGATCGTAAGTCCGGGAGTAGGAGGAGGAAGGGTCGTCCCACAGTGCGAAGAGGCTTCTGACCTACTGACGGTACCTCCTCAGTGTCAGCCTATAGTCGGAGCTCGAGGGAGACTCGGTCCTCTGTAAAAGTCCGAATACCTTTGATGAAGGAGGTCTTCTATAGGACGGTAG\"\n",
    "seq1 "
   ]
  },
  {
   "cell_type": "code",
   "execution_count": 71,
   "id": "d2997850",
   "metadata": {},
   "outputs": [
    {
     "data": {
      "text/plain": [
       "54.3"
      ]
     },
     "execution_count": 71,
     "metadata": {},
     "output_type": "execute_result"
    }
   ],
   "source": [
    "#Realizamos el calculo para conocer el porcentaje de nucleotidos de \"G\" y \"C\"\n",
    "nuc_C = seq1.count(\"C\") #contabilizamos el numero de \"C\" en nuestra cadena\n",
    "nuc_G = seq1.count(\"G\") #contabilizamos el numero de \"G\" en nuestra cadena\n",
    "len_seq1 = len (seq1) #Contabilizamos el numero completo de  nucleotidos en nuestra cadena\n",
    "percent_CG = 100*(nuc_C + nuc_G) / len_seq1  #sacamos el porcentaje de \"G\" y \"C\"\n",
    "\n",
    "round(percent_CG, 1)"
   ]
  },
  {
   "cell_type": "code",
   "execution_count": 72,
   "id": "1867b85a",
   "metadata": {},
   "outputs": [
    {
     "data": {
      "text/plain": [
       "'AAGGACC.GACATCCATCGCTGATGTCAATCCCCCGTGGATCGTAAGTCCGGGAGTAGGAGGAGGAAGGGTCGTCCCACAGTGCGAAGAGGCTTCTGACCTACTGACGGTACCTCCTCAGTGTCAGCCTATAGTCGGAGCTCGAGGGAGACTCGGTCCTCTGTAAAAGTCCGAATACCTTTGATGAAGGAGGTCTTCTATAGGACGGTAG'"
      ]
     },
     "execution_count": 72,
     "metadata": {},
     "output_type": "execute_result"
    }
   ],
   "source": [
    "# sacamos N de la cadena \n",
    "seq2 = seq1.replace (\"N\", \".\")\n",
    "seq2"
   ]
  },
  {
   "cell_type": "markdown",
   "id": "d43d59d4",
   "metadata": {},
   "source": [
    "## La cadena complementaria \n",
    "La cadena de ADN que actúa como molde en la transcripción de ARN se denomina cadena con sentido. Su cadena complementaria se denomina cadena antisentido. El ARN que se transcribe contiene la misma secuencia de bases que la cadena antisentido (aunque sustituye la timina por el uracilo).\n",
    "\n",
    "Las tres clases de ARN (ARN ribosomal, ARN de transferencia y ARN mensajero) son sintetizados a partir de moldes de ADN en la transcripción.\n",
    "\n",
    "El proceso de la transcripción se desarrolla de esta manera:\n",
    "\n",
    "En primer lugar una enzima, la ARN-polimerasa, se asocia a una región del ADN, denominada \"promotor\". La enzima pasa de una configuración cerrada a abierta, y desenrolla una vuelta de hélice, permitiendo la polimerización del ARN a partir de una de las hebras de ADN que se utiliza como patrón.\n",
    "La ARN-polimerasa, se desplaza por la hebra patrón, insertando nucleótidos de ARN, siguiendo la regla de complementariedad de bases. Por ejemplo, si la secuencia de ADN es: 3'... TACGCT ...5' La secuencia de ARNm es: 5'... UAGCGA ...3'\n",
    "Cuando se ha copiado toda la hebra, al final del proceso , la cadena de ARN queda libre y el ADN se cierra de nuevo, por apareamiento de sus cadenas complementarias.\n",
    "\n",
    "\n",
    " <img src=\"https://cdn.kastatic.org/ka-perseus-images/0794ff370c10cf085aff3ef168e44ccc9716768a.png\"  width=400, height=200 />\n",
    " \n",
    " endonde: \n",
    " "
   ]
  },
  {
   "cell_type": "code",
   "execution_count": 73,
   "id": "d1e516a4",
   "metadata": {},
   "outputs": [
    {
     "data": {
      "text/plain": [
       "'UUCCUGGNCUGUAGGUAGCGACUACAGUUAGGGGGCACCUAGCAUUCAGGCCCUCAUCCUCCUCCUUCCCAGCAGGGUGUCACGCUUCUCCGAAGACUGGAUGACUGCCAUGGAGGAGUCACAGUCGGAUAUCAGCCUCGAGCUCCCUCUGAGCCAGGAGACAUUUUCAGGCUUAUGGAAACUACUUCCUCCAGAAGAUAUCCUGCCAUC'"
      ]
     },
     "execution_count": 73,
     "metadata": {},
     "output_type": "execute_result"
    }
   ],
   "source": [
    "# encontramos la cadena complementaria \n",
    "seq2 = \"AAGGACCNGACATCCATCGCTGATGTCAATCCCCCGTGGATCGTAAGTCCGGGAGTAGGAGGAGGAAGGGTCGTCCCACAGTGCGAAGAGGCTTCTGACCTACTGACGGTACCTCCTCAGTGTCAGCCTATAGTCGGAGCTCGAGGGAGACTCGGTCCTCTGTAAAAGTCCGAATACCTTTGATGAAGGAGGTCTTCTATAGGACGGTAG\"\n",
    "seq4 = seq2.replace (\"A\", \"U\") #remplazamos A por U para que se de una correcta correlacion entre tinina y uracilo, que es el complemento en ARN \n",
    "seq5 = seq4.replace(\"T\", \"a\") #remplazamos T por a\n",
    "seq6 = seq5.replace(\"C\", \"g\") #remplazamos C por g\n",
    "seq7 = seq6.replace(\"G\", \"c\") #replazamos G por c\n",
    "seq2_temp = seq7.upper() #para poner mayusculas todo\n",
    "seq2_temp\n",
    "\n"
   ]
  },
  {
   "cell_type": "markdown",
   "id": "0e507755",
   "metadata": {},
   "source": [
    "### Reberso complementario \n",
    "El reverso de una secuencia simplemente consiste en revertir la hilera dada, y el complemento, en cambiar los nucleótidos A con T o C con G, y viceversa. El reverso complementario convierte una secuencia de ADN en su reversa y luego aplica el complemento.\n",
    "\n"
   ]
  },
  {
   "cell_type": "code",
   "execution_count": 74,
   "id": "8c28651f",
   "metadata": {},
   "outputs": [
    {
     "data": {
      "text/plain": [
       "'CUACCGUCCUAUAGAAGACCUCCUUCAUCAAAGGUAUUCGGACUUUUACAGAGGACCGAGUCUCCCUCGAGCUCCGACUAUAGGCUGACACUGAGGAGGUACCGUCAGUAGGUCAGAAGCCUCUUCGCACUGUGGGACGACCCUUCCUCCUCCUACUCCCGGACUUACGAUCCACGGGGGAUUGACAUCAGCGAUGGAUGUCNGGUCCUU'"
      ]
     },
     "execution_count": 74,
     "metadata": {},
     "output_type": "execute_result"
    }
   ],
   "source": [
    "#realizamos el reverso complementario de 3'-5'\n",
    "rseq = seq2_temp [::-1] #sacamos el inverso \n",
    "rseq"
   ]
  },
  {
   "cell_type": "markdown",
   "id": "fe0f4036",
   "metadata": {},
   "source": [
    "### Siguiendo encontramos los puntos de inicio y de final del ADN \n",
    "\n"
   ]
  },
  {
   "cell_type": "code",
   "execution_count": 75,
   "id": "d1c5478b",
   "metadata": {},
   "outputs": [],
   "source": [
    "dna_show = seq2.replace(\"ATC\", \"Start\")\n",
    "dna_show1 = dna_show.replace(\"TAG\", \"End\")\n",
    "\n",
    "dna_show2 = rseq.replace(\"ATC\", \"Start\")\n",
    "dna_show_rseq = dna_show2.replace(\"TAG\", \"End\")\n"
   ]
  },
  {
   "cell_type": "code",
   "execution_count": 76,
   "id": "c7c9ffff",
   "metadata": {
    "scrolled": true
   },
   "outputs": [
    {
     "data": {
      "text/plain": [
       "'AAGGACCNGACStartCStartGCTGATGTCAStartCCCCGTGGStartGTAAGTCCGGGAGTAGGAGGAGGAAGGGTCGTCCCACAGTGCGAAGAGGCTTCTGACCTACTGACGGTACCTCCTCAGTGTCAGCCTATAGTCGGAGCTCGAGGGAGACTCGGTCCTCTGTAAAAGTCCGAATACCTTTGATGAAGGAGGTCTTCTATAGGACGGTAG'"
      ]
     },
     "execution_count": 76,
     "metadata": {},
     "output_type": "execute_result"
    }
   ],
   "source": [
    "dna_show #imprimimos el inicio \n"
   ]
  },
  {
   "cell_type": "code",
   "execution_count": 77,
   "id": "2da29c7f",
   "metadata": {
    "scrolled": true
   },
   "outputs": [
    {
     "data": {
      "text/plain": [
       "'CUACCGUCCUAUAGAAGACCUCCUUCAUCAAAGGUAUUCGGACUUUUACAGAGGACCGAGUCUCCCUCGAGCUCCGACUAUAGGCUGACACUGAGGAGGUACCGUCAGUAGGUCAGAAGCCUCUUCGCACUGUGGGACGACCCUUCCUCCUCCUACUCCCGGACUUACGAUCCACGGGGGAUUGACAUCAGCGAUGGAUGUCNGGUCCUU'"
      ]
     },
     "execution_count": 77,
     "metadata": {},
     "output_type": "execute_result"
    }
   ],
   "source": [
    "dna_show2 #imprimimos el inicio "
   ]
  }
 ],
 "metadata": {
  "kernelspec": {
   "display_name": "Python 3 (ipykernel)",
   "language": "python",
   "name": "python3"
  },
  "language_info": {
   "codemirror_mode": {
    "name": "ipython",
    "version": 3
   },
   "file_extension": ".py",
   "mimetype": "text/x-python",
   "name": "python",
   "nbconvert_exporter": "python",
   "pygments_lexer": "ipython3",
   "version": "3.9.12"
  }
 },
 "nbformat": 4,
 "nbformat_minor": 5
}
